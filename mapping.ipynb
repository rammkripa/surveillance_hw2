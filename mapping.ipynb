{
 "cells": [
  {
   "cell_type": "code",
   "execution_count": 2,
   "metadata": {},
   "outputs": [],
   "source": [
    "import folium\n",
    "import pandas as pd\n",
    "\n",
    "# Create simulated data\n",
    "locations = [\n",
    "    {'name': 'Location A', 'lat': 39.7684, 'lon': -86.1581, 'cycle_phase': 'Menstrual', 'date': '2024-01-01'},  # Indiana\n",
    "    {'name': 'Location B', 'lat': 39.7392, 'lon': -104.9903, 'cycle_phase': 'Follicular', 'date': '2024-01-10'},\n",
    "    {'name': 'Location C', 'lat': 41.8781, 'lon': -87.6298, 'cycle_phase': 'Ovulatory', 'date': '2024-01-15'},  # Illinois\n",
    "    {'name': 'Location D', 'lat': 41.8781, 'lon': -87.6298, 'cycle_phase': 'Luteal', 'date': '2024-01-20'},\n",
    "    {'name': 'Location E', 'lat': 41.8781, 'lon': -87.6298, 'cycle_phase': 'Missed Period', 'date': '2024-01-25'},\n",
    "]\n",
    "\n",
    "# Initialize a map\n",
    "map_path = folium.Map(location=[locations[0]['lat'], locations[0]['lon']], zoom_start=6)\n",
    "\n",
    "# Create a list to hold coordinates for the path\n",
    "coordinates = []\n",
    "\n",
    "# Add markers and create path\n",
    "for index, loc in enumerate(locations):\n",
    "    folium.Marker(\n",
    "        location=[loc['lat'], loc['lon']],\n",
    "        popup=f\"{loc['name']}<br>Phase: {loc['cycle_phase']}<br>Date: {loc['date']}\",\n",
    "    ).add_to(map_path)\n",
    "\n",
    "    # Add coordinates for the path\n",
    "    coordinates.append((loc['lat'], loc['lon']))\n",
    "\n",
    "# Draw the path between locations\n",
    "folium.PolyLine(locations=coordinates, color='blue', weight=2.5, opacity=1).add_to(map_path)\n",
    "\n",
    "# Save the map\n",
    "map_path.save('journey_map.html')\n",
    "\n"
   ]
  },
  {
   "cell_type": "code",
   "execution_count": null,
   "metadata": {},
   "outputs": [],
   "source": []
  }
 ],
 "metadata": {
  "kernelspec": {
   "display_name": "base",
   "language": "python",
   "name": "python3"
  },
  "language_info": {
   "codemirror_mode": {
    "name": "ipython",
    "version": 3
   },
   "file_extension": ".py",
   "mimetype": "text/x-python",
   "name": "python",
   "nbconvert_exporter": "python",
   "pygments_lexer": "ipython3",
   "version": "3.9.13"
  }
 },
 "nbformat": 4,
 "nbformat_minor": 2
}
