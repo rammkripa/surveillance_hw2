{
 "cells": [
  {
   "cell_type": "code",
   "execution_count": 4,
   "metadata": {},
   "outputs": [],
   "source": [
    "import folium\n",
    "\n",
    "# Create simulated data with the specified timeline\n",
    "locations = [\n",
    "    {'name': 'High School Location', 'lat': 39.7684, 'lon': -86.1581, 'cycle_phase': 'Menstrual', 'date': 'Mid November 2023', 'description': 'Period lasted 4 days'},\n",
    "    {'name': 'Home Suburb', 'lat': 39.7392, 'lon': -86.1581, 'cycle_phase': 'Missed Period', 'date': 'Mid December 2023', 'description': 'Missed Period'},\n",
    "    {'name': 'Hospital Location', 'lat': 39.7903, 'lon': -86.1595, 'cycle_phase': 'Missed Period', 'date': 'Mid January 2024', 'description': 'Missed Period'},\n",
    "    {'name': 'Highway between Illinois and Indiana', 'lat': 40.1000, 'lon': -88.3000, 'cycle_phase': 'Missed Period', 'date': 'January 24, 2024', 'description': 'Missed period last two months'},\n",
    "    {'name': 'Hospital in Illinois', 'lat': 41.8781, 'lon': -87.6298, 'cycle_phase': 'Seeking Abortion', 'date': 'January 25, 2024', 'description': 'Likely seeking abortion'},\n",
    "]\n",
    "# Generate maps for each location\n",
    "for index, loc in enumerate(locations):\n",
    "    # Create a map for each location\n",
    "    map_individual = folium.Map(location=[loc['lat'], loc['lon']], zoom_start=12)\n",
    "    \n",
    "    # Add a marker for the current location\n",
    "    folium.Marker(\n",
    "        location=[loc['lat'], loc['lon']],\n",
    "        popup=f\"{loc['name']}<br>Phase: {loc['cycle_phase']}<br>Date: {loc['date']}<br>{loc['description']}\",\n",
    "    ).add_to(map_individual)\n",
    "    \n",
    "    # Save each map to an HTML file\n",
    "    map_individual.save(f'journey_map_{index + 1}.html')\n"
   ]
  },
  {
   "cell_type": "code",
   "execution_count": null,
   "metadata": {},
   "outputs": [],
   "source": []
  }
 ],
 "metadata": {
  "kernelspec": {
   "display_name": "base",
   "language": "python",
   "name": "python3"
  },
  "language_info": {
   "codemirror_mode": {
    "name": "ipython",
    "version": 3
   },
   "file_extension": ".py",
   "mimetype": "text/x-python",
   "name": "python",
   "nbconvert_exporter": "python",
   "pygments_lexer": "ipython3",
   "version": "3.9.13"
  }
 },
 "nbformat": 4,
 "nbformat_minor": 2
}
